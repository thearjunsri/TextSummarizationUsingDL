{
  "nbformat": 4,
  "nbformat_minor": 0,
  "metadata": {
    "colab": {
      "provenance": []
    },
    "kernelspec": {
      "name": "python3",
      "display_name": "Python 3"
    },
    "language_info": {
      "name": "python"
    }
  },
  "cells": [
    {
      "cell_type": "markdown",
      "source": [
        "**Getting our document / text.**"
      ],
      "metadata": {
        "id": "i3Dqem7MLjgD"
      }
    },
    {
      "cell_type": "code",
      "source": [
        "text = \"\"\"\n",
        "Python is an interpreted high-level general-purpose programming language. Its design philosophy emphasizes code readability with its use of significant indentation. Its language constructs as well as its object-oriented approach aim to help programmers write clear, logical code for small and large-scale projects.[30]\n",
        "\n",
        "Python is dynamically-typed and garbage-collected. It supports multiple programming paradigms, including structured (particularly, procedural), object-oriented and functional programming. It is often described as a \"batteries included\" language due to its comprehensive standard library.[31]\n",
        "\n",
        "Guido van Rossum began working on Python in the late 1980s, as a successor to the ABC programming language, and first released it in 1991 as Python 0.9.0.[32] Python 2.0 was released in 2000 and introduced new features, such as list comprehensions and a garbage collection system using reference counting. Python 3.0 was released in 2008 and was a major revision of the language that is not completely backward-compatible. Python 2 was discontinued with version 2.7.18 in 2020.[33]\n",
        "\n",
        "Python consistently ranks as one of the most popular programming languages.\"\"\""
      ],
      "metadata": {
        "id": "owKC6egSQdzH"
      },
      "execution_count": null,
      "outputs": []
    },
    {
      "cell_type": "markdown",
      "source": [
        "Importing important libraries."
      ],
      "metadata": {
        "id": "oJOyrUM2LuuW"
      }
    },
    {
      "cell_type": "code",
      "execution_count": null,
      "metadata": {
        "id": "T2dt-sURQGuH"
      },
      "outputs": [],
      "source": [
        "import spacy\n",
        "from spacy.lang.en.stop_words import STOP_WORDS\n",
        "from string import punctuation"
      ]
    },
    {
      "cell_type": "code",
      "source": [
        "# Stop words are a set of commonly used words in any language.\n",
        "stopwords = list(STOP_WORDS)\n",
        "print(stopwords)"
      ],
      "metadata": {
        "id": "Qn0U22mhQMBb",
        "colab": {
          "base_uri": "https://localhost:8080/"
        },
        "outputId": "2d1f2068-0cf7-457c-fba5-7100f0dfbc8b"
      },
      "execution_count": null,
      "outputs": [
        {
          "output_type": "stream",
          "name": "stdout",
          "text": [
            "['last', 'using', 'whoever', 'yet', 'indeed', 'his', 'have', 'many', 'same', '‘ll', 'himself', 'must', 'please', 'our', 'over', 'whereupon', 'us', 'else', 'their', 'seemed', 'somewhere', 'whereafter', 'everywhere', 'by', 'very', 'it', 'themselves', '‘re', 'along', 'latterly', 'mine', 'me', 'under', 'whom', 'noone', 'even', 'one', \"n't\", 'nevertheless', '’s', 'should', 'afterwards', 'few', 'he', 'n’t', 'toward', '’d', '‘ve', 'whence', 'unless', 'third', 'amount', 'put', 'go', 'both', 'five', '‘s', 'why', 'during', 'had', 'four', 'every', 'ours', 'twenty', 'beforehand', 'someone', 'thence', 'an', 'six', 'them', 'was', 'though', 'were', 'myself', 'nor', 'is', 'besides', 'because', 'everyone', 'this', 'not', 'beside', 'hereafter', 'than', 'see', 'next', 'around', 'itself', 'became', 'since', 'really', 'much', '’ll', 'via', 'thus', 'here', 'to', 'herein', 'thereupon', 'no', 'eleven', 'give', 'eight', 'sometime', 'together', 'ten', 'becoming', 'former', 'meanwhile', 'per', 'against', 'everything', 'being', 'alone', 'ever', 'anyone', 'whose', 'top', 'until', 'can', 'empty', 'that', 'thru', 'how', 'we', 'between', 'if', 'be', 'am', 'might', 'as', 'make', 'further', 'regarding', 'off', 'but', 'fifteen', 'always', 'nowhere', 'three', 'becomes', 'out', 'then', 'which', 'various', 'thereby', 'hundred', 'perhaps', 'somehow', 'n‘t', 'while', \"'ve\", 'a', 'does', 'often', 'where', 'ourselves', 'back', 'seem', 'side', 'twelve', 'whereas', 'too', \"'ll\", 'whatever', 'less', 'keep', 'only', 'in', '‘m', \"'m\", 'least', 'show', 'yourself', 'say', 'without', 'although', 'seeming', 'part', 'take', 'could', 'bottom', 'however', 'fifty', 'whereby', 'above', 'across', 'therein', 'at', 'below', 'would', 'another', 'sometimes', 'name', 'each', 'except', \"'s\", 'my', 'nobody', 'through', 'been', 'hers', 'already', 'her', 'whither', 'rather', 'seems', 'due', 'either', 'once', 'hereupon', 'your', 'ca', 'other', 'herself', 'when', 'others', 'serious', 'beyond', 'did', 'made', 'moreover', 'amongst', 'nine', 'onto', 'from', 'its', 'never', 'own', 'several', 'or', 'well', '‘d', 'mostly', 'throughout', 'also', 'cannot', 'so', 'still', '’m', 'anywhere', \"'d\", 'wherever', 'move', 'anyway', 'whether', 'elsewhere', 'first', '’re', 'among', 'about', 'enough', 'i', 'done', 'get', 'none', 'are', 'hence', \"'re\", 'call', 'otherwise', 'will', 'thereafter', 'whenever', 'anyhow', 'behind', 're', 'of', 'before', 'towards', 'with', 'latter', 'front', 'namely', 'yourselves', 'some', 'those', 'more', 'hereby', 'doing', 'on', 'just', 'who', 'do', 'any', 'become', 'there', 'quite', 'down', 'for', 'you', 'whole', 'and', 'within', 'the', 'up', 'neither', 'what', 'she', 'full', 'has', 'into', '’ve', 'anything', 'yours', 'him', 'they', 'such', 'almost', 'therefore', 'these', 'formerly', 'most', 'wherein', 'may', 'two', 'again', 'forty', 'something', 'upon', 'after', 'sixty', 'nothing', 'now', 'used', 'all']\n"
          ]
        }
      ]
    },
    {
      "cell_type": "markdown",
      "source": [
        "**Let’s understand what are these terms tokenizer, tagger, parser and NER.**\n",
        "\n",
        "Tokenization —The process of segmenting a document /paragraph /text into words, sentences, punctuations marks etc is called tokenization.\n",
        "\n",
        "Part-of-speech (POS) Tagging — Assigning word types to tokens, like verb or noun.\n",
        "\n",
        "Dependency Parsing —Assigning syntactic dependency labels, describing the relations between individual tokens, like subject or object.\n",
        "\n",
        "Named Entity Recognition (NER) — Labelling named “real-world” objects, like persons, companies or locations."
      ],
      "metadata": {
        "id": "B_opecGRLRgA"
      }
    },
    {
      "cell_type": "code",
      "source": [
        "nlp = spacy.load('en_core_web_sm')"
      ],
      "metadata": {
        "id": "cTLIMAieQSQi"
      },
      "execution_count": null,
      "outputs": []
    },
    {
      "cell_type": "markdown",
      "source": [
        " Calling the ‘nlp’ object on a string of text which will return a processed document."
      ],
      "metadata": {
        "id": "ke_7At4VL4Be"
      }
    },
    {
      "cell_type": "code",
      "source": [
        "# A Doc is a sequence of Token objects\n",
        "doc = nlp(text)\n",
        "doc"
      ],
      "metadata": {
        "id": "0Oam47y1QUXf",
        "colab": {
          "base_uri": "https://localhost:8080/"
        },
        "outputId": "7357e7ca-8bc3-4ce9-912b-1d125c3d396d"
      },
      "execution_count": null,
      "outputs": [
        {
          "output_type": "execute_result",
          "data": {
            "text/plain": [
              "\n",
              "Python is an interpreted high-level general-purpose programming language. Its design philosophy emphasizes code readability with its use of significant indentation. Its language constructs as well as its object-oriented approach aim to help programmers write clear, logical code for small and large-scale projects.[30]\n",
              "\n",
              "Python is dynamically-typed and garbage-collected. It supports multiple programming paradigms, including structured (particularly, procedural), object-oriented and functional programming. It is often described as a \"batteries included\" language due to its comprehensive standard library.[31]\n",
              "\n",
              "Guido van Rossum began working on Python in the late 1980s, as a successor to the ABC programming language, and first released it in 1991 as Python 0.9.0.[32] Python 2.0 was released in 2000 and introduced new features, such as list comprehensions and a garbage collection system using reference counting. Python 3.0 was released in 2008 and was a major revision of the language that is not completely backward-compatible. Python 2 was discontinued with version 2.7.18 in 2020.[33]\n",
              "\n",
              "Python consistently ranks as one of the most popular programming languages."
            ]
          },
          "metadata": {},
          "execution_count": 45
        }
      ]
    },
    {
      "cell_type": "markdown",
      "source": [
        "performing word tokenization here , to check the tokens."
      ],
      "metadata": {
        "id": "0hUZbZrdL_u-"
      }
    },
    {
      "cell_type": "code",
      "source": [
        "tokens = [token.text for token in doc]\n",
        "print(tokens)"
      ],
      "metadata": {
        "colab": {
          "base_uri": "https://localhost:8080/"
        },
        "id": "x7jwo_fdQWLK",
        "outputId": "74ae1df4-7e82-4c65-fb87-2ea9c6db833b"
      },
      "execution_count": null,
      "outputs": [
        {
          "output_type": "stream",
          "name": "stdout",
          "text": [
            "['\\n', 'Python', 'is', 'an', 'interpreted', 'high', '-', 'level', 'general', '-', 'purpose', 'programming', 'language', '.', 'Its', 'design', 'philosophy', 'emphasizes', 'code', 'readability', 'with', 'its', 'use', 'of', 'significant', 'indentation', '.', 'Its', 'language', 'constructs', 'as', 'well', 'as', 'its', 'object', '-', 'oriented', 'approach', 'aim', 'to', 'help', 'programmers', 'write', 'clear', ',', 'logical', 'code', 'for', 'small', 'and', 'large', '-', 'scale', 'projects.[30', ']', '\\n\\n', 'Python', 'is', 'dynamically', '-', 'typed', 'and', 'garbage', '-', 'collected', '.', 'It', 'supports', 'multiple', 'programming', 'paradigms', ',', 'including', 'structured', '(', 'particularly', ',', 'procedural', ')', ',', 'object', '-', 'oriented', 'and', 'functional', 'programming', '.', 'It', 'is', 'often', 'described', 'as', 'a', '\"', 'batteries', 'included', '\"', 'language', 'due', 'to', 'its', 'comprehensive', 'standard', 'library.[31', ']', '\\n\\n', 'Guido', 'van', 'Rossum', 'began', 'working', 'on', 'Python', 'in', 'the', 'late', '1980s', ',', 'as', 'a', 'successor', 'to', 'the', 'ABC', 'programming', 'language', ',', 'and', 'first', 'released', 'it', 'in', '1991', 'as', 'Python', '0.9.0.[32', ']', 'Python', '2.0', 'was', 'released', 'in', '2000', 'and', 'introduced', 'new', 'features', ',', 'such', 'as', 'list', 'comprehensions', 'and', 'a', 'garbage', 'collection', 'system', 'using', 'reference', 'counting', '.', 'Python', '3.0', 'was', 'released', 'in', '2008', 'and', 'was', 'a', 'major', 'revision', 'of', 'the', 'language', 'that', 'is', 'not', 'completely', 'backward', '-', 'compatible', '.', 'Python', '2', 'was', 'discontinued', 'with', 'version', '2.7.18', 'in', '2020.[33', ']', '\\n\\n', 'Python', 'consistently', 'ranks', 'as', 'one', 'of', 'the', 'most', 'popular', 'programming', 'languages', '.']\n"
          ]
        }
      ]
    },
    {
      "cell_type": "markdown",
      "source": [
        "Adding extra punctuations."
      ],
      "metadata": {
        "id": "XtpDgAtaMJjI"
      }
    },
    {
      "cell_type": "code",
      "source": [
        "punctuation = punctuation + '\\n'\n",
        "punctuation"
      ],
      "metadata": {
        "colab": {
          "base_uri": "https://localhost:8080/",
          "height": 36
        },
        "id": "ZW5BKuZtQls5",
        "outputId": "fda4ed0c-ad46-4869-a816-0653fb0b6bbb"
      },
      "execution_count": null,
      "outputs": [
        {
          "output_type": "execute_result",
          "data": {
            "text/plain": [
              "'!\"#$%&\\'()*+,-./:;<=>?@[\\\\]^_`{|}~\\n'"
            ],
            "application/vnd.google.colaboratory.intrinsic+json": {
              "type": "string"
            }
          },
          "metadata": {},
          "execution_count": 47
        }
      ]
    },
    {
      "cell_type": "markdown",
      "source": [
        " Text Preprocessing and cleaning."
      ],
      "metadata": {
        "id": "_FnEQLRuMQr7"
      }
    },
    {
      "cell_type": "code",
      "source": [
        "word_frequencies = {}\n",
        "for word in doc:\n",
        "    if word.text.lower() not in stopwords:\n",
        "        if word.text.lower() not in punctuation:\n",
        "            if word.text not in word_frequencies.keys():\n",
        "                word_frequencies[word.text] = 1\n",
        "            else:\n",
        "                word_frequencies[word.text] += 1\n",
        "\n",
        "print(word_frequencies)       \n",
        "print(len(word_frequencies))"
      ],
      "metadata": {
        "colab": {
          "base_uri": "https://localhost:8080/"
        },
        "id": "gCWaKQrMQpd3",
        "outputId": "dc0bb320-7eb7-4b7d-f4b4-2932f5ac8aca"
      },
      "execution_count": null,
      "outputs": [
        {
          "output_type": "stream",
          "name": "stdout",
          "text": [
            "{'Python': 8, 'interpreted': 1, 'high': 1, 'level': 1, 'general': 1, 'purpose': 1, 'programming': 5, 'language': 5, 'design': 1, 'philosophy': 1, 'emphasizes': 1, 'code': 2, 'readability': 1, 'use': 1, 'significant': 1, 'indentation': 1, 'constructs': 1, 'object': 2, 'oriented': 2, 'approach': 1, 'aim': 1, 'help': 1, 'programmers': 1, 'write': 1, 'clear': 1, 'logical': 1, 'small': 1, 'large': 1, 'scale': 1, 'projects.[30': 1, '\\n\\n': 3, 'dynamically': 1, 'typed': 1, 'garbage': 2, 'collected': 1, 'supports': 1, 'multiple': 1, 'paradigms': 1, 'including': 1, 'structured': 1, 'particularly': 1, 'procedural': 1, 'functional': 1, 'described': 1, 'batteries': 1, 'included': 1, 'comprehensive': 1, 'standard': 1, 'library.[31': 1, 'Guido': 1, 'van': 1, 'Rossum': 1, 'began': 1, 'working': 1, 'late': 1, '1980s': 1, 'successor': 1, 'ABC': 1, 'released': 3, '1991': 1, '0.9.0.[32': 1, '2.0': 1, '2000': 1, 'introduced': 1, 'new': 1, 'features': 1, 'list': 1, 'comprehensions': 1, 'collection': 1, 'system': 1, 'reference': 1, 'counting': 1, '3.0': 1, '2008': 1, 'major': 1, 'revision': 1, 'completely': 1, 'backward': 1, 'compatible': 1, '2': 1, 'discontinued': 1, 'version': 1, '2.7.18': 1, '2020.[33': 1, 'consistently': 1, 'ranks': 1, 'popular': 1, 'languages': 1}\n",
            "88\n"
          ]
        }
      ]
    },
    {
      "cell_type": "code",
      "source": [
        "max_frequency = max(word_frequencies.values())\n",
        "max_frequency"
      ],
      "metadata": {
        "colab": {
          "base_uri": "https://localhost:8080/"
        },
        "id": "9UOZ1DswQsCB",
        "outputId": "0d9ed04b-ffa7-48ad-c851-10fe339963bc"
      },
      "execution_count": null,
      "outputs": [
        {
          "output_type": "execute_result",
          "data": {
            "text/plain": [
              "8"
            ]
          },
          "metadata": {},
          "execution_count": 49
        }
      ]
    },
    {
      "cell_type": "markdown",
      "source": [
        "Normalizing frequency counts."
      ],
      "metadata": {
        "id": "Z6o-IlmZMXBX"
      }
    },
    {
      "cell_type": "code",
      "source": [
        "# updating the values of words as total probability\n",
        "for word in word_frequencies.keys():\n",
        "    word_frequencies[word] = word_frequencies[word]/max_frequency\n",
        "\n",
        "print(word_frequencies)"
      ],
      "metadata": {
        "colab": {
          "base_uri": "https://localhost:8080/"
        },
        "id": "-gXtAPp2Qt-3",
        "outputId": "95bb50a5-6bde-450f-c9ef-e2e85d99606e"
      },
      "execution_count": null,
      "outputs": [
        {
          "output_type": "stream",
          "name": "stdout",
          "text": [
            "{'Python': 1.0, 'interpreted': 0.125, 'high': 0.125, 'level': 0.125, 'general': 0.125, 'purpose': 0.125, 'programming': 0.625, 'language': 0.625, 'design': 0.125, 'philosophy': 0.125, 'emphasizes': 0.125, 'code': 0.25, 'readability': 0.125, 'use': 0.125, 'significant': 0.125, 'indentation': 0.125, 'constructs': 0.125, 'object': 0.25, 'oriented': 0.25, 'approach': 0.125, 'aim': 0.125, 'help': 0.125, 'programmers': 0.125, 'write': 0.125, 'clear': 0.125, 'logical': 0.125, 'small': 0.125, 'large': 0.125, 'scale': 0.125, 'projects.[30': 0.125, '\\n\\n': 0.375, 'dynamically': 0.125, 'typed': 0.125, 'garbage': 0.25, 'collected': 0.125, 'supports': 0.125, 'multiple': 0.125, 'paradigms': 0.125, 'including': 0.125, 'structured': 0.125, 'particularly': 0.125, 'procedural': 0.125, 'functional': 0.125, 'described': 0.125, 'batteries': 0.125, 'included': 0.125, 'comprehensive': 0.125, 'standard': 0.125, 'library.[31': 0.125, 'Guido': 0.125, 'van': 0.125, 'Rossum': 0.125, 'began': 0.125, 'working': 0.125, 'late': 0.125, '1980s': 0.125, 'successor': 0.125, 'ABC': 0.125, 'released': 0.375, '1991': 0.125, '0.9.0.[32': 0.125, '2.0': 0.125, '2000': 0.125, 'introduced': 0.125, 'new': 0.125, 'features': 0.125, 'list': 0.125, 'comprehensions': 0.125, 'collection': 0.125, 'system': 0.125, 'reference': 0.125, 'counting': 0.125, '3.0': 0.125, '2008': 0.125, 'major': 0.125, 'revision': 0.125, 'completely': 0.125, 'backward': 0.125, 'compatible': 0.125, '2': 0.125, 'discontinued': 0.125, 'version': 0.125, '2.7.18': 0.125, '2020.[33': 0.125, 'consistently': 0.125, 'ranks': 0.125, 'popular': 0.125, 'languages': 0.125}\n"
          ]
        }
      ]
    },
    {
      "cell_type": "markdown",
      "source": [
        "Sentence Tokenization"
      ],
      "metadata": {
        "id": "jnARRjsmMfR8"
      }
    },
    {
      "cell_type": "code",
      "source": [
        "sentence_tokens = [sent for sent in doc.sents]\n",
        "print(sentence_tokens)\n",
        "print(len(sentence_tokens))"
      ],
      "metadata": {
        "colab": {
          "base_uri": "https://localhost:8080/"
        },
        "id": "c9h3CwbLQv-B",
        "outputId": "1cd009c2-5f15-4c39-94ef-61e98410e599"
      },
      "execution_count": null,
      "outputs": [
        {
          "output_type": "stream",
          "name": "stdout",
          "text": [
            "[\n",
            "Python is an interpreted high-level general-purpose programming language., Its design philosophy emphasizes code readability with its use of significant indentation., Its language constructs as well as its object-oriented approach aim to help programmers write clear, logical code for small and large-scale projects.[30]\n",
            "\n",
            "Python is dynamically-typed and garbage-collected., It supports multiple programming paradigms, including structured (particularly, procedural), object-oriented and functional programming., It is often described as a \"batteries included\" language due to its comprehensive standard library.[31]\n",
            "\n",
            "Guido van Rossum began working on Python in the late 1980s, as a successor to the ABC programming language, and first released it in 1991 as Python 0.9.0.[32] Python 2.0 was released in 2000 and introduced new features, such as list comprehensions and a garbage collection system using reference counting., Python 3.0 was released in 2008 and was a major revision of the language that is not completely backward-compatible., Python 2 was discontinued with version 2.7.18 in 2020.[33]\n",
            "\n",
            "Python consistently ranks as one of the most popular programming languages.]\n",
            "7\n"
          ]
        }
      ]
    },
    {
      "cell_type": "markdown",
      "source": [
        "Finding sentence scores."
      ],
      "metadata": {
        "id": "qo1Y8hsaMkti"
      }
    },
    {
      "cell_type": "code",
      "source": [
        "sentence_scores = {}\n",
        "for sent in sentence_tokens:\n",
        "    for word in sent:\n",
        "        if word.text.lower() in word_frequencies.keys():\n",
        "            if sent not in sentence_scores.keys():\n",
        "                sentence_scores[sent] = word_frequencies[word.text.lower()]\n",
        "            else:\n",
        "                sentence_scores[sent] += word_frequencies[word.text.lower()]\n",
        "                \n",
        "sentence_scores"
      ],
      "metadata": {
        "colab": {
          "base_uri": "https://localhost:8080/"
        },
        "id": "b9GRtTh8Qx1p",
        "outputId": "e5b12b43-585f-4d3f-e566-94e9353f27b6"
      },
      "execution_count": null,
      "outputs": [
        {
          "output_type": "execute_result",
          "data": {
            "text/plain": [
              "{\n",
              " Python is an interpreted high-level general-purpose programming language.: 1.875,\n",
              " Its design philosophy emphasizes code readability with its use of significant indentation.: 1.125,\n",
              " Its language constructs as well as its object-oriented approach aim to help programmers write clear, logical code for small and large-scale projects.[30]\n",
              " \n",
              " Python is dynamically-typed and garbage-collected.: 3.875,\n",
              " It supports multiple programming paradigms, including structured (particularly, procedural), object-oriented and functional programming.: 2.75,\n",
              " It is often described as a \"batteries included\" language due to its comprehensive standard library.[31]\n",
              " \n",
              " Guido van Rossum began working on Python in the late 1980s, as a successor to the ABC programming language, and first released it in 1991 as Python 0.9.0.[32] Python 2.0 was released in 2000 and introduced new features, such as list comprehensions and a garbage collection system using reference counting.: 6.375,\n",
              " Python 3.0 was released in 2008 and was a major revision of the language that is not completely backward-compatible.: 1.875,\n",
              " Python 2 was discontinued with version 2.7.18 in 2020.[33]\n",
              " \n",
              " Python consistently ranks as one of the most popular programming languages.: 2.125}"
            ]
          },
          "metadata": {},
          "execution_count": 52
        }
      ]
    },
    {
      "cell_type": "code",
      "source": [
        "from heapq import nlargest"
      ],
      "metadata": {
        "id": "hEk7QY8lQ0MC"
      },
      "execution_count": null,
      "outputs": []
    },
    {
      "cell_type": "code",
      "source": [
        "select_length = int(len(sentence_tokens)*0.3)\n",
        "select_length"
      ],
      "metadata": {
        "colab": {
          "base_uri": "https://localhost:8080/"
        },
        "id": "GZhqNynSQ2g9",
        "outputId": "fedef148-9d17-4416-abd6-57ca473d4a0d"
      },
      "execution_count": null,
      "outputs": [
        {
          "output_type": "execute_result",
          "data": {
            "text/plain": [
              "2"
            ]
          },
          "metadata": {},
          "execution_count": 54
        }
      ]
    },
    {
      "cell_type": "code",
      "source": [
        "summary = nlargest(select_length, sentence_scores, key = sentence_scores.get)\n",
        "summary"
      ],
      "metadata": {
        "colab": {
          "base_uri": "https://localhost:8080/"
        },
        "id": "iBcV4ugYQ9UT",
        "outputId": "68d111c1-074b-451d-a264-09ab33e0b9d9"
      },
      "execution_count": null,
      "outputs": [
        {
          "output_type": "execute_result",
          "data": {
            "text/plain": [
              "[It is often described as a \"batteries included\" language due to its comprehensive standard library.[31]\n",
              " \n",
              " Guido van Rossum began working on Python in the late 1980s, as a successor to the ABC programming language, and first released it in 1991 as Python 0.9.0.[32] Python 2.0 was released in 2000 and introduced new features, such as list comprehensions and a garbage collection system using reference counting.,\n",
              " Its language constructs as well as its object-oriented approach aim to help programmers write clear, logical code for small and large-scale projects.[30]\n",
              " \n",
              " Python is dynamically-typed and garbage-collected.]"
            ]
          },
          "metadata": {},
          "execution_count": 55
        }
      ]
    },
    {
      "cell_type": "code",
      "source": [
        "final_summary = [word.text for word in summary]\n",
        "summary = ' '.join(final_summary)"
      ],
      "metadata": {
        "id": "CYc-znO8Q_k0"
      },
      "execution_count": null,
      "outputs": []
    },
    {
      "cell_type": "code",
      "source": [
        "print(text)"
      ],
      "metadata": {
        "colab": {
          "base_uri": "https://localhost:8080/"
        },
        "id": "BIbWb-44RB0C",
        "outputId": "1005a1cd-374b-4cee-9be0-1fb673dcf785"
      },
      "execution_count": null,
      "outputs": [
        {
          "output_type": "stream",
          "name": "stdout",
          "text": [
            "\n",
            "Python is an interpreted high-level general-purpose programming language. Its design philosophy emphasizes code readability with its use of significant indentation. Its language constructs as well as its object-oriented approach aim to help programmers write clear, logical code for small and large-scale projects.[30]\n",
            "\n",
            "Python is dynamically-typed and garbage-collected. It supports multiple programming paradigms, including structured (particularly, procedural), object-oriented and functional programming. It is often described as a \"batteries included\" language due to its comprehensive standard library.[31]\n",
            "\n",
            "Guido van Rossum began working on Python in the late 1980s, as a successor to the ABC programming language, and first released it in 1991 as Python 0.9.0.[32] Python 2.0 was released in 2000 and introduced new features, such as list comprehensions and a garbage collection system using reference counting. Python 3.0 was released in 2008 and was a major revision of the language that is not completely backward-compatible. Python 2 was discontinued with version 2.7.18 in 2020.[33]\n",
            "\n",
            "Python consistently ranks as one of the most popular programming languages.\n"
          ]
        }
      ]
    },
    {
      "cell_type": "code",
      "source": [
        "print(summary)"
      ],
      "metadata": {
        "colab": {
          "base_uri": "https://localhost:8080/"
        },
        "id": "gIkNx3S8RDeX",
        "outputId": "d4a72ed8-5f4e-42ab-e67a-c7ecc00f3007"
      },
      "execution_count": null,
      "outputs": [
        {
          "output_type": "stream",
          "name": "stdout",
          "text": [
            "It is often described as a \"batteries included\" language due to its comprehensive standard library.[31]\n",
            "\n",
            "Guido van Rossum began working on Python in the late 1980s, as a successor to the ABC programming language, and first released it in 1991 as Python 0.9.0.[32] Python 2.0 was released in 2000 and introduced new features, such as list comprehensions and a garbage collection system using reference counting. Its language constructs as well as its object-oriented approach aim to help programmers write clear, logical code for small and large-scale projects.[30]\n",
            "\n",
            "Python is dynamically-typed and garbage-collected.\n"
          ]
        }
      ]
    },
    {
      "cell_type": "code",
      "source": [
        "len(text)"
      ],
      "metadata": {
        "colab": {
          "base_uri": "https://localhost:8080/"
        },
        "id": "vpgGtdoqRFis",
        "outputId": "0d88f453-5440-4a9f-e6f9-c92e3e7b8fd7"
      },
      "execution_count": null,
      "outputs": [
        {
          "output_type": "execute_result",
          "data": {
            "text/plain": [
              "1172"
            ]
          },
          "metadata": {},
          "execution_count": 59
        }
      ]
    },
    {
      "cell_type": "code",
      "source": [
        "len(summary)"
      ],
      "metadata": {
        "colab": {
          "base_uri": "https://localhost:8080/"
        },
        "id": "Y8lcehIQRHYK",
        "outputId": "5c9a5ab1-dc8f-459c-a826-563e124e76d5"
      },
      "execution_count": null,
      "outputs": [
        {
          "output_type": "execute_result",
          "data": {
            "text/plain": [
              "616"
            ]
          },
          "metadata": {},
          "execution_count": 60
        }
      ]
    }
  ]
}