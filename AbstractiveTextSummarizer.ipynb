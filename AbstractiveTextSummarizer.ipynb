{
  "cells": [
    {
      "cell_type": "markdown",
      "metadata": {
        "id": "bkjJ0FjCj4ZQ"
      },
      "source": [
        "# 0. Install dependencies"
      ]
    },
    {
      "cell_type": "code",
      "execution_count": null,
      "metadata": {
        "id": "IEqezbBZj4ZX",
        "colab": {
          "base_uri": "https://localhost:8080/"
        },
        "outputId": "28f3145f-53df-4fb4-a29b-361010662672"
      },
      "outputs": [
        {
          "output_type": "stream",
          "name": "stdout",
          "text": [
            "Looking in indexes: https://pypi.org/simple, https://us-python.pkg.dev/colab-wheels/public/simple/\n",
            "Requirement already satisfied: transformers==2.8.0 in /usr/local/lib/python3.8/dist-packages (2.8.0)\n",
            "Requirement already satisfied: tokenizers==0.5.2 in /usr/local/lib/python3.8/dist-packages (from transformers==2.8.0) (0.5.2)\n",
            "Requirement already satisfied: numpy in /usr/local/lib/python3.8/dist-packages (from transformers==2.8.0) (1.21.6)\n",
            "Requirement already satisfied: sentencepiece in /usr/local/lib/python3.8/dist-packages (from transformers==2.8.0) (0.1.97)\n",
            "Requirement already satisfied: tqdm>=4.27 in /usr/local/lib/python3.8/dist-packages (from transformers==2.8.0) (4.64.1)\n",
            "Requirement already satisfied: sacremoses in /usr/local/lib/python3.8/dist-packages (from transformers==2.8.0) (0.0.53)\n",
            "Requirement already satisfied: regex!=2019.12.17 in /usr/local/lib/python3.8/dist-packages (from transformers==2.8.0) (2022.6.2)\n",
            "Requirement already satisfied: requests in /usr/local/lib/python3.8/dist-packages (from transformers==2.8.0) (2.23.0)\n",
            "Requirement already satisfied: filelock in /usr/local/lib/python3.8/dist-packages (from transformers==2.8.0) (3.8.0)\n",
            "Requirement already satisfied: boto3 in /usr/local/lib/python3.8/dist-packages (from transformers==2.8.0) (1.26.25)\n",
            "Requirement already satisfied: s3transfer<0.7.0,>=0.6.0 in /usr/local/lib/python3.8/dist-packages (from boto3->transformers==2.8.0) (0.6.0)\n",
            "Requirement already satisfied: jmespath<2.0.0,>=0.7.1 in /usr/local/lib/python3.8/dist-packages (from boto3->transformers==2.8.0) (1.0.1)\n",
            "Requirement already satisfied: botocore<1.30.0,>=1.29.25 in /usr/local/lib/python3.8/dist-packages (from boto3->transformers==2.8.0) (1.29.25)\n",
            "Requirement already satisfied: urllib3<1.27,>=1.25.4 in /usr/local/lib/python3.8/dist-packages (from botocore<1.30.0,>=1.29.25->boto3->transformers==2.8.0) (1.25.11)\n",
            "Requirement already satisfied: python-dateutil<3.0.0,>=2.1 in /usr/local/lib/python3.8/dist-packages (from botocore<1.30.0,>=1.29.25->boto3->transformers==2.8.0) (2.8.2)\n",
            "Requirement already satisfied: six>=1.5 in /usr/local/lib/python3.8/dist-packages (from python-dateutil<3.0.0,>=2.1->botocore<1.30.0,>=1.29.25->boto3->transformers==2.8.0) (1.15.0)\n",
            "Requirement already satisfied: certifi>=2017.4.17 in /usr/local/lib/python3.8/dist-packages (from requests->transformers==2.8.0) (2022.9.24)\n",
            "Requirement already satisfied: idna<3,>=2.5 in /usr/local/lib/python3.8/dist-packages (from requests->transformers==2.8.0) (2.10)\n",
            "Requirement already satisfied: chardet<4,>=3.0.2 in /usr/local/lib/python3.8/dist-packages (from requests->transformers==2.8.0) (3.0.4)\n",
            "Requirement already satisfied: joblib in /usr/local/lib/python3.8/dist-packages (from sacremoses->transformers==2.8.0) (1.2.0)\n",
            "Requirement already satisfied: click in /usr/local/lib/python3.8/dist-packages (from sacremoses->transformers==2.8.0) (7.1.2)\n",
            "Looking in indexes: https://pypi.org/simple, https://us-python.pkg.dev/colab-wheels/public/simple/\n",
            "Requirement already satisfied: torch==1.4.0 in /usr/local/lib/python3.8/dist-packages (1.4.0)\n"
          ]
        }
      ],
      "source": [
        " !pip install transformers==2.8.0\n",
        " !pip install torch==1.4.0"
      ]
    },
    {
      "cell_type": "markdown",
      "metadata": {
        "id": "jlCgcTZhj4Za"
      },
      "source": [
        "# 1. Import and Load Model"
      ]
    },
    {
      "cell_type": "code",
      "execution_count": null,
      "metadata": {
        "id": "TQqawq0lj4Za"
      },
      "outputs": [],
      "source": [
        "import torch\n",
        "from transformers import T5Tokenizer, T5ForConditionalGeneration, T5Config"
      ]
    },
    {
      "cell_type": "code",
      "execution_count": null,
      "metadata": {
        "id": "uDgJB8Tkj4Zb"
      },
      "outputs": [],
      "source": [
        "\n",
        "# initialize the pretrained model\n",
        "model = T5ForConditionalGeneration.from_pretrained('t5-small')\n",
        "tokenizer = T5Tokenizer.from_pretrained('t5-small')\n",
        "device = torch.device('cpu')"
      ]
    },
    {
      "cell_type": "code",
      "execution_count": null,
      "metadata": {
        "id": "80u-tcHJj4Zb"
      },
      "outputs": [],
      "source": [
        "# input text\n",
        "text = \"\"\"\n",
        "Barrier coverage scheduling is an energy conservation scheme in which a subset of sensor nodes with overlapped\n",
        "sensing area (also called barrier) is activated to meet the key\n",
        "Quality of Service (QoS) requirements such as energy-efficiency,\n",
        "coverage, and connectivity. However, sudden and unexpected\n",
        "node failures in a barrier due to security attacks such as Denial\n",
        "of Service (DoS) poses a challenge for maintaining the desired\n",
        "QoS levels. In this paper, we propose a secure barrier coverage\n",
        "scheduling scheme called SEC2\n",
        ", which prevents QoS degradation\n",
        "in the event of security breaches. This scheme uses a fully\n",
        "weighted attributed dynamic graph model in which a novel\n",
        "attribute-based weight balancing greedy strategy is used to construct barriers. A weighted averaging-based K-means Spectral,\n",
        "and Hierarchical (WKSH) cluster ensemble scheme is proposed to\n",
        "secure a barrier from malicious attacks. WKSH is a graph-based\n",
        "anomaly detection scheme based on weighted Euclidean distance\n",
        "computation and weighted average consensus. The experimental\n",
        "result shows that SEC2\n",
        "guarantees the required QoS at all times.\n",
        "Moreover, the proposed WKSH shows better accuracy in the\n",
        "classification and detection of attacks in the barrier.\n",
        "\n",
        "\"\"\""
      ]
    },
    {
      "cell_type": "markdown",
      "metadata": {
        "id": "ljPqG9-Jj4Zc"
      },
      "source": [
        "# 2. Perform Abstractive Summarization"
      ]
    },
    {
      "cell_type": "code",
      "execution_count": null,
      "metadata": {
        "id": "i1BH1t7Wj4Zc"
      },
      "outputs": [],
      "source": [
        "## preprocess the input text\n",
        "preprocessed_text = text.strip().replace('\\n','')\n",
        "t5_input_text = 'summarize: ' + preprocessed_text"
      ]
    },
    {
      "cell_type": "code",
      "execution_count": null,
      "metadata": {
        "colab": {
          "base_uri": "https://localhost:8080/",
          "height": 123
        },
        "id": "etsWx8b0j4Zd",
        "outputId": "47634142-e74a-42bb-bd41-3a31f3c86714"
      },
      "outputs": [
        {
          "output_type": "execute_result",
          "data": {
            "text/plain": [
              "'summarize: Barrier coverage scheduling is an energy conservation scheme in which a subset of sensor nodes with overlappedsensing area (also called barrier) is activated to meet the keyQuality of Service (QoS) requirements such as energy-efficiency,coverage, and connectivity. However, sudden and unexpectednode failures in a barrier due to security attacks such as Denialof Service (DoS) poses a challenge for maintaining the desiredQoS levels. In this paper, we propose a secure barrier coveragescheduling scheme called SEC2, which prevents QoS degradationin the event of security breaches. This scheme uses a fullyweighted attributed dynamic graph model in which a novelattribute-based weight balancing greedy strategy is used to construct barriers. A weighted averaging-based K-means Spectral,and Hierarchical (WKSH) cluster ensemble scheme is proposed tosecure a barrier from malicious attacks. WKSH is a graph-basedanomaly detection scheme based on weighted Euclidean distancecomputation and weighted average consensus. The experimentalresult shows that SEC2guarantees the required QoS at all times.Moreover, the proposed WKSH shows better accuracy in theclassification and detection of attacks in the barrier.'"
            ],
            "application/vnd.google.colaboratory.intrinsic+json": {
              "type": "string"
            }
          },
          "metadata": {},
          "execution_count": 55
        }
      ],
      "source": [
        "t5_input_text\n"
      ]
    },
    {
      "cell_type": "code",
      "execution_count": null,
      "metadata": {
        "colab": {
          "base_uri": "https://localhost:8080/"
        },
        "id": "oOXm-LUqj4Ze",
        "outputId": "9a845c65-4d48-46e4-b2cd-7b72e8e77740"
      },
      "outputs": [
        {
          "output_type": "execute_result",
          "data": {
            "text/plain": [
              "164"
            ]
          },
          "metadata": {},
          "execution_count": 56
        }
      ],
      "source": [
        "len(t5_input_text.split())"
      ]
    },
    {
      "cell_type": "code",
      "execution_count": null,
      "metadata": {
        "id": "h8OM-puLj4Zf"
      },
      "outputs": [],
      "source": [
        "tokenized_text = tokenizer.encode(t5_input_text, return_tensors='pt', max_length=512).to(device)\n"
      ]
    },
    {
      "cell_type": "code",
      "execution_count": null,
      "metadata": {
        "id": "vRetdzoWj4Zg"
      },
      "outputs": [],
      "source": [
        "summary_ids = model.generate(tokenized_text, min_length=30, max_length=200)\n",
        "summary = tokenizer.decode(summary_ids[0], skip_special_tokens=True)"
      ]
    },
    {
      "cell_type": "code",
      "execution_count": null,
      "metadata": {
        "colab": {
          "base_uri": "https://localhost:8080/"
        },
        "id": "jFMyJHJsj4Zg",
        "outputId": "bfc4a8a2-5607-41bf-b56d-cd4c60f0877c"
      },
      "outputs": [
        {
          "output_type": "stream",
          "name": "stdout",
          "text": [
            "barrier coverage scheduling is an energy conservation scheme. the scheme uses a fullyweighted graph model to construct barriers. the scheme prevents QoS degradation in the event of security breaches.\n"
          ]
        }
      ],
      "source": [
        "print(summary)"
      ]
    },
    {
      "cell_type": "code",
      "source": [],
      "metadata": {
        "id": "xgksrghPXe_k"
      },
      "execution_count": null,
      "outputs": []
    }
  ],
  "metadata": {
    "kernelspec": {
      "display_name": "pegasus",
      "language": "python",
      "name": "pegasus"
    },
    "language_info": {
      "codemirror_mode": {
        "name": "ipython",
        "version": 3
      },
      "file_extension": ".py",
      "mimetype": "text/x-python",
      "name": "python",
      "nbconvert_exporter": "python",
      "pygments_lexer": "ipython3",
      "version": "3.7.3"
    },
    "colab": {
      "provenance": []
    }
  },
  "nbformat": 4,
  "nbformat_minor": 0
}